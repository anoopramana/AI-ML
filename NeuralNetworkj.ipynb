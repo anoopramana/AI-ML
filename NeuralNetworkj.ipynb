{
 "cells": [
  {
   "cell_type": "code",
   "execution_count": 1,
   "metadata": {},
   "outputs": [
    {
     "name": "stdout",
     "output_type": "stream",
     "text": [
      "tensor([[0.9892, 0.0419, 0.5577],\n",
      "        [0.4436, 0.6087, 0.4707],\n",
      "        [0.1496, 0.0144, 0.6942],\n",
      "        [0.5517, 0.3584, 0.3041],\n",
      "        [0.1564, 0.0783, 0.6426]])\n"
     ]
    }
   ],
   "source": [
    "import torch\n",
    "x = torch.rand(5, 3)\n",
    "print(x)"
   ]
  },
  {
   "cell_type": "code",
   "execution_count": 2,
   "metadata": {},
   "outputs": [],
   "source": [
    "#Import dependencies\n",
    "import torch\n",
    "from torch import nn\n",
    "from torch.utils.data import DataLoader\n",
    "from torchvision import datasets\n",
    "from torchvision.transforms import ToTensor"
   ]
  },
  {
   "cell_type": "code",
   "execution_count": 3,
   "metadata": {},
   "outputs": [],
   "source": [
    "# Download training data from open datasets\n",
    "#FashionMNIST dataset, which is a collection of images of clothing items like shirts, pants, and shoes\n",
    "training_data = datasets.FashionMNIST(\n",
    "    root=\"data\",\n",
    "    train=True,\n",
    "    download=True,\n",
    "    transform=ToTensor(),\n",
    ")\n",
    "\n",
    "# Download test data from open datasets.\n",
    "test_data = datasets.FashionMNIST(\n",
    "    root=\"data\",\n",
    "    train=False,\n",
    "    download=True,\n",
    "    transform=ToTensor(),\n",
    ")"
   ]
  },
  {
   "cell_type": "code",
   "execution_count": 4,
   "metadata": {},
   "outputs": [
    {
     "name": "stdout",
     "output_type": "stream",
     "text": [
      "Shape of X [N, C, H, W]: torch.Size([64, 1, 28, 28])\n",
      "Shape of y: torch.Size([64]) torch.int64\n"
     ]
    }
   ],
   "source": [
    "#Dataset stores the samples and their corresponding labels, and DataLoader wraps an iterable around the Dataset\n",
    "#Define batch size i.e each element in the dataloader iterable will return a batch of 64 features and labels\n",
    "batch_size = 64\n",
    "\n",
    "# Create data loaders.\n",
    "train_dataloader = DataLoader(training_data, batch_size=batch_size)\n",
    "test_dataloader = DataLoader(test_data, batch_size=batch_size)\n",
    "\n",
    "for X, y in test_dataloader:\n",
    "    print(f\"Shape of X [N, C, H, W]: {X.shape}\")\n",
    "    print(f\"Shape of y: {y.shape} {y.dtype}\")\n",
    "    break"
   ]
  },
  {
   "cell_type": "code",
   "execution_count": 5,
   "metadata": {},
   "outputs": [
    {
     "name": "stdout",
     "output_type": "stream",
     "text": [
      "Using cpu device\n",
      "NeuralNetwork(\n",
      "  (flatten): Flatten(start_dim=1, end_dim=-1)\n",
      "  (linear_relu_stack): Sequential(\n",
      "    (0): Linear(in_features=784, out_features=512, bias=True)\n",
      "    (1): ReLU()\n",
      "    (2): Linear(in_features=512, out_features=512, bias=True)\n",
      "    (3): ReLU()\n",
      "    (4): Linear(in_features=512, out_features=10, bias=True)\n",
      "  )\n",
      ")\n"
     ]
    }
   ],
   "source": [
    "# Get cpu, gpu or mps device for training.\n",
    "device = (\n",
    "    \"cuda\"\n",
    "    if torch.cuda.is_available()\n",
    "    else \"mps\"\n",
    "    if torch.backends.mps.is_available()\n",
    "    else \"cpu\"\n",
    ")\n",
    "print(f\"Using {device} device\")\n",
    "\n",
    "# Create a class that inherits from nn.module. Define the layers of network in the __init__ function. To accelerate operations in NN we move it to GPU/MPS if available\n",
    "class NeuralNetwork(nn.Module):\n",
    "    def __init__(self):\n",
    "        super().__init__()\n",
    "        self.flatten = nn.Flatten()\n",
    "        self.linear_relu_stack = nn.Sequential(\n",
    "            nn.Linear(28*28, 512),\n",
    "            nn.ReLU(),\n",
    "            nn.Linear(512, 512),\n",
    "            nn.ReLU(),\n",
    "            nn.Linear(512, 10)\n",
    "        )\n",
    "\n",
    "    def forward(self, x):\n",
    "        x = self.flatten(x)\n",
    "        logits = self.linear_relu_stack(x)\n",
    "        return logits\n",
    "\n",
    "model = NeuralNetwork().to(device)\n",
    "print(model)"
   ]
  },
  {
   "cell_type": "code",
   "execution_count": 6,
   "metadata": {},
   "outputs": [],
   "source": [
    "#To train a model we need a loss function and an optimizer:\n",
    "loss_fn = nn.CrossEntropyLoss()\n",
    "optimizer = torch.optim.SGD(model.parameters(), lr=1e-3)"
   ]
  },
  {
   "cell_type": "code",
   "execution_count": 7,
   "metadata": {},
   "outputs": [],
   "source": [
    "#In a single training loop model makes predictions on training dataset and backpropagates the prediction error to adjust model's parameters\n",
    "def train(dataloader, model, loss_fn, optimizer):\n",
    "    size = len(dataloader.dataset)\n",
    "    model.train()\n",
    "    for batch, (X, y) in enumerate(dataloader):\n",
    "        X, y = X.to(device), y.to(device)\n",
    "\n",
    "        # Compute prediction error\n",
    "        pred = model(X)\n",
    "        loss = loss_fn(pred, y)\n",
    "\n",
    "        # Backpropagation\n",
    "        loss.backward()\n",
    "        optimizer.step()\n",
    "        optimizer.zero_grad()\n",
    "\n",
    "        if batch % 100 == 0:\n",
    "            loss, current = loss.item(), (batch + 1) * len(X)\n",
    "            print(f\"loss: {loss:>7f}  [{current:>5d}/{size:>5d}]\")"
   ]
  },
  {
   "cell_type": "code",
   "execution_count": 8,
   "metadata": {},
   "outputs": [],
   "source": [
    "#Check the models performance against the test dataset to ensure it is learning\n",
    "def test(dataloader, model, loss_fn):\n",
    "    size = len(dataloader.dataset)\n",
    "    num_batches = len(dataloader)\n",
    "    model.eval()\n",
    "    test_loss, correct = 0, 0\n",
    "    with torch.no_grad():\n",
    "        for X, y in dataloader:\n",
    "            X, y = X.to(device), y.to(device)\n",
    "            pred = model(X)\n",
    "            test_loss += loss_fn(pred, y).item()\n",
    "            correct += (pred.argmax(1) == y).type(torch.float).sum().item()\n",
    "    test_loss /= num_batches\n",
    "    correct /= size\n",
    "    print(f\"Test Error: \\n Accuracy: {(100*correct):>0.1f}%, Avg loss: {test_loss:>8f} \\n\")"
   ]
  },
  {
   "cell_type": "code",
   "execution_count": 9,
   "metadata": {},
   "outputs": [
    {
     "name": "stdout",
     "output_type": "stream",
     "text": [
      "Epoch 1\n",
      "-------------------------------\n",
      "loss: 2.292591  [   64/60000]\n",
      "loss: 2.296645  [ 6464/60000]\n",
      "loss: 2.274471  [12864/60000]\n",
      "loss: 2.266799  [19264/60000]\n",
      "loss: 2.259984  [25664/60000]\n",
      "loss: 2.203196  [32064/60000]\n",
      "loss: 2.230847  [38464/60000]\n",
      "loss: 2.180249  [44864/60000]\n",
      "loss: 2.186100  [51264/60000]\n",
      "loss: 2.158975  [57664/60000]\n",
      "Test Error: \n",
      " Accuracy: 37.2%, Avg loss: 2.151471 \n",
      "\n",
      "Epoch 2\n",
      "-------------------------------\n",
      "loss: 2.158168  [   64/60000]\n",
      "loss: 2.159994  [ 6464/60000]\n",
      "loss: 2.095614  [12864/60000]\n",
      "loss: 2.111493  [19264/60000]\n",
      "loss: 2.071891  [25664/60000]\n",
      "loss: 1.995161  [32064/60000]\n",
      "loss: 2.043435  [38464/60000]\n",
      "loss: 1.948828  [44864/60000]\n",
      "loss: 1.959743  [51264/60000]\n",
      "loss: 1.898062  [57664/60000]\n",
      "Test Error: \n",
      " Accuracy: 58.4%, Avg loss: 1.884827 \n",
      "\n",
      "Epoch 3\n",
      "-------------------------------\n",
      "loss: 1.912913  [   64/60000]\n",
      "loss: 1.895998  [ 6464/60000]\n",
      "loss: 1.760966  [12864/60000]\n",
      "loss: 1.810133  [19264/60000]\n",
      "loss: 1.711381  [25664/60000]\n",
      "loss: 1.648141  [32064/60000]\n",
      "loss: 1.694163  [38464/60000]\n",
      "loss: 1.572194  [44864/60000]\n",
      "loss: 1.608497  [51264/60000]\n",
      "loss: 1.512714  [57664/60000]\n",
      "Test Error: \n",
      " Accuracy: 60.6%, Avg loss: 1.515712 \n",
      "\n",
      "Epoch 4\n",
      "-------------------------------\n",
      "loss: 1.578819  [   64/60000]\n",
      "loss: 1.556448  [ 6464/60000]\n",
      "loss: 1.385802  [12864/60000]\n",
      "loss: 1.467970  [19264/60000]\n",
      "loss: 1.354771  [25664/60000]\n",
      "loss: 1.344179  [32064/60000]\n",
      "loss: 1.374516  [38464/60000]\n",
      "loss: 1.281761  [44864/60000]\n",
      "loss: 1.324684  [51264/60000]\n",
      "loss: 1.227891  [57664/60000]\n",
      "Test Error: \n",
      " Accuracy: 62.8%, Avg loss: 1.249635 \n",
      "\n",
      "Epoch 5\n",
      "-------------------------------\n",
      "loss: 1.324906  [   64/60000]\n",
      "loss: 1.318190  [ 6464/60000]\n",
      "loss: 1.135138  [12864/60000]\n",
      "loss: 1.244658  [19264/60000]\n",
      "loss: 1.127564  [25664/60000]\n",
      "loss: 1.151200  [32064/60000]\n",
      "loss: 1.178998  [38464/60000]\n",
      "loss: 1.106115  [44864/60000]\n",
      "loss: 1.148535  [51264/60000]\n",
      "loss: 1.066342  [57664/60000]\n",
      "Test Error: \n",
      " Accuracy: 64.0%, Avg loss: 1.086929 \n",
      "\n",
      "Done!\n"
     ]
    }
   ],
   "source": [
    "epochs = 5\n",
    "for t in range(epochs):\n",
    "    print(f\"Epoch {t+1}\\n-------------------------------\")\n",
    "    train(train_dataloader, model, loss_fn, optimizer)\n",
    "    test(test_dataloader, model, loss_fn)\n",
    "print(\"Done!\")"
   ]
  },
  {
   "cell_type": "code",
   "execution_count": 10,
   "metadata": {},
   "outputs": [
    {
     "name": "stdout",
     "output_type": "stream",
     "text": [
      "Saved PyTorch Model State to model.pth\n"
     ]
    }
   ],
   "source": [
    "torch.save(model.state_dict(), \"model.pth\")\n",
    "print(\"Saved PyTorch Model State to model.pth\")"
   ]
  },
  {
   "cell_type": "code",
   "execution_count": 11,
   "metadata": {},
   "outputs": [
    {
     "data": {
      "text/plain": [
       "<All keys matched successfully>"
      ]
     },
     "execution_count": 11,
     "metadata": {},
     "output_type": "execute_result"
    }
   ],
   "source": [
    "model = NeuralNetwork().to(device)\n",
    "model.load_state_dict(torch.load(\"model.pth\"))"
   ]
  },
  {
   "cell_type": "code",
   "execution_count": null,
   "metadata": {},
   "outputs": [],
   "source": []
  }
 ],
 "metadata": {
  "kernelspec": {
   "display_name": "mlenv",
   "language": "python",
   "name": "python3"
  },
  "language_info": {
   "codemirror_mode": {
    "name": "ipython",
    "version": 3
   },
   "file_extension": ".py",
   "mimetype": "text/x-python",
   "name": "python",
   "nbconvert_exporter": "python",
   "pygments_lexer": "ipython3",
   "version": "3.10.9"
  }
 },
 "nbformat": 4,
 "nbformat_minor": 2
}
